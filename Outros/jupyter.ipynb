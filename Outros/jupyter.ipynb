{
 "cells": [
  {
   "cell_type": "code",
   "execution_count": 3,
   "outputs": [
    {
     "name": "stdout",
     "output_type": "stream",
     "text": [
      "\n",
      "\u001B[1;36m10 x 1\u001B[m = \u001B[1;32m10\u001B[m\n",
      "\u001B[1;36m10 x 2\u001B[m = \u001B[1;32m20\u001B[m\n",
      "\u001B[1;36m10 x 3\u001B[m = \u001B[1;32m30\u001B[m\n",
      "\u001B[1;36m10 x 4\u001B[m = \u001B[1;32m40\u001B[m\n",
      "\u001B[1;36m10 x 5\u001B[m = \u001B[1;32m50\u001B[m\n"
     ]
    }
   ],
   "source": [
    "num = int(input('Digite um valor para ver sua tabuada? '))\n",
    "fim = int(input('Até qual número você gostaria de multiplicar? '))\n",
    "print()\n",
    "for c in range(1, fim + 1):\n",
    "    print('\\033[1;36m{} x {}\\033[m = \\033[1;32m{}\\033[m'.format(num, c, num * c))"
   ],
   "metadata": {
    "collapsed": false,
    "pycharm": {
     "name": "#%%\n"
    }
   }
  }
 ],
 "metadata": {
  "kernelspec": {
   "display_name": "Python 3 (ipykernel)",
   "language": "python",
   "name": "python3"
  },
  "language_info": {
   "codemirror_mode": {
    "name": "ipython",
    "version": 3
   },
   "file_extension": ".py",
   "mimetype": "text/x-python",
   "name": "python",
   "nbconvert_exporter": "python",
   "pygments_lexer": "ipython3",
   "version": "3.10.3"
  }
 },
 "nbformat": 4,
 "nbformat_minor": 1
}
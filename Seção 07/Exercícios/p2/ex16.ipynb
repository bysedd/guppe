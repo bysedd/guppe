{
 "cells": [
  {
   "cell_type": "code",
   "execution_count": 31,
   "outputs": [],
   "source": [
    "def random_choices(opt=('a', 'b', 'c', 'd', 'e'), tam=10):\n",
    "    \"\"\"\n",
    "    Chuta respostas aleatórias.\n",
    "    :param opt: Alternativas.\n",
    "    :param tam: Número de questões.\n",
    "    :return: Uma tupla de respostas.\n",
    "    \"\"\"\n",
    "    from random import choice\n",
    "    lst = []\n",
    "    for _ in range(tam):\n",
    "        lst.append(choice(opt))\n",
    "    return lst"
   ],
   "metadata": {
    "collapsed": false,
    "pycharm": {
     "name": "#%%\n"
    }
   }
  },
  {
   "cell_type": "code",
   "execution_count": 32,
   "outputs": [],
   "source": [
    "def matricula():\n",
    "    from random import randint as r\n",
    "    from datetime import date\n",
    "    return f'{date.today().year}{r(10000000, 99999999)}'"
   ],
   "metadata": {
    "collapsed": false,
    "pycharm": {
     "name": "#%%\n"
    }
   }
  },
  {
   "cell_type": "code",
   "execution_count": 33,
   "outputs": [],
   "source": [
    "alunos = []\n",
    "for i in range(1, 4):\n",
    "    alunos.append(input(f'Nome do {i}º aluno: ').title())"
   ],
   "metadata": {
    "collapsed": false,
    "pycharm": {
     "name": "#%%\n"
    }
   }
  },
  {
   "cell_type": "code",
   "execution_count": 34,
   "outputs": [
    {
     "data": {
      "text/plain": "{'Felippe': [{'matricula': '202251932469',\n   'alternativas': ['b', 'b', 'b', 'd', 'a', 'a', 'd', 'c', 'd', 'a']}],\n 'Davy': [{'matricula': '202275493503',\n   'alternativas': ['d', 'e', 'e', 'b', 'c', 'e', 'c', 'a', 'a', 'e']}],\n 'Ayslan': [{'matricula': '202296747070',\n   'alternativas': ['d', 'c', 'c', 'c', 'd', 'b', 'c', 'd', 'e', 'c']}]}"
     },
     "execution_count": 34,
     "metadata": {},
     "output_type": "execute_result"
    }
   ],
   "source": [
    "turma = {\n",
    "    alunos[0]: [{'matricula': matricula(), 'alternativas': random_choices()}],\n",
    "    alunos[1]: [{'matricula': matricula(), 'alternativas': random_choices()}],\n",
    "    alunos[2]: [{'matricula': matricula(), 'alternativas': random_choices()}]}\n",
    "turma"
   ],
   "metadata": {
    "collapsed": false,
    "pycharm": {
     "name": "#%%\n"
    }
   }
  },
  {
   "cell_type": "code",
   "execution_count": 35,
   "outputs": [
    {
     "data": {
      "text/plain": "['b', 'c', 'a', 'd', 'b', 'e', 'a', 'e', 'c', 'e']"
     },
     "execution_count": 35,
     "metadata": {},
     "output_type": "execute_result"
    }
   ],
   "source": [
    "gabarito = random_choices()\n",
    "gabarito"
   ],
   "metadata": {
    "collapsed": false,
    "pycharm": {
     "name": "#%%\n"
    }
   }
  },
  {
   "cell_type": "code",
   "execution_count": 36,
   "outputs": [],
   "source": [
    "c = 1\n",
    "media = 7\n",
    "for v in turma.values():\n",
    "    p = 0\n",
    "    for i, l in enumerate(v[0].get('alternativas')):\n",
    "        if l == gabarito[i]:\n",
    "            p += 1\n",
    "    v[0]['nota'] = p\n",
    "    if p >= media:\n",
    "        v[0]['situation'] = 'APROVADO'\n",
    "    else:\n",
    "        v[0]['situation'] = 'REPROVADO'"
   ],
   "metadata": {
    "collapsed": false,
    "pycharm": {
     "name": "#%%\n"
    }
   }
  },
  {
   "cell_type": "code",
   "execution_count": 37,
   "outputs": [
    {
     "name": "stdout",
     "output_type": "stream",
     "text": [
      "-=-=-=-=-=-=-=-=-=-=-=-=-=-=-=-=-=-=-=-=-=-=-=-=-=-=-=-=-=-=-=-=-=-=-=\n",
      "                               Felippe                                \n",
      "Matrícula: 202251932469\n",
      "Alternativas: ['b', 'b', 'b', 'd', 'a', 'a', 'd', 'c', 'd', 'a']\n",
      "Gabarito:     ['b', 'c', 'a', 'd', 'b', 'e', 'a', 'e', 'c', 'e']\n",
      "Nota: 2\n",
      "Situação: REPROVADO\n",
      "-=-=-=-=-=-=-=-=-=-=-=-=-=-=-=-=-=-=-=-=-=-=-=-=-=-=-=-=-=-=-=-=-=-=-=\n",
      "                                 Davy                                 \n",
      "Matrícula: 202275493503\n",
      "Alternativas: ['d', 'e', 'e', 'b', 'c', 'e', 'c', 'a', 'a', 'e']\n",
      "Gabarito:     ['b', 'c', 'a', 'd', 'b', 'e', 'a', 'e', 'c', 'e']\n",
      "Nota: 2\n",
      "Situação: REPROVADO\n",
      "-=-=-=-=-=-=-=-=-=-=-=-=-=-=-=-=-=-=-=-=-=-=-=-=-=-=-=-=-=-=-=-=-=-=-=\n",
      "                                Ayslan                                \n",
      "Matrícula: 202296747070\n",
      "Alternativas: ['d', 'c', 'c', 'c', 'd', 'b', 'c', 'd', 'e', 'c']\n",
      "Gabarito:     ['b', 'c', 'a', 'd', 'b', 'e', 'a', 'e', 'c', 'e']\n",
      "Nota: 1\n",
      "Situação: REPROVADO\n"
     ]
    }
   ],
   "source": [
    "for k, v in turma.items():\n",
    "    print(f\"{'-=' * 35}\\n{k:^70}\")\n",
    "    print(f\"Matrícula: {v[0].get('matricula')}\")\n",
    "    print(f\"Alternativas: {v[0].get('alternativas')}\")\n",
    "    print(f\"Gabarito:     {gabarito}\")\n",
    "    print(f\"Nota: {v[0].get('nota')}\")\n",
    "    print(f\"Situação: {v[0].get('situation')}\")"
   ],
   "metadata": {
    "collapsed": false,
    "pycharm": {
     "name": "#%%\n"
    }
   }
  }
 ],
 "metadata": {
  "kernelspec": {
   "display_name": "Python 3",
   "language": "python",
   "name": "python3"
  },
  "language_info": {
   "codemirror_mode": {
    "name": "ipython",
    "version": 2
   },
   "file_extension": ".py",
   "mimetype": "text/x-python",
   "name": "python",
   "nbconvert_exporter": "python",
   "pygments_lexer": "ipython2",
   "version": "2.7.6"
  }
 },
 "nbformat": 4,
 "nbformat_minor": 0
}
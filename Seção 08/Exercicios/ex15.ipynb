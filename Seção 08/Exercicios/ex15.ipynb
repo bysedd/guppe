{
 "cells": [
  {
   "cell_type": "code",
   "execution_count": 60,
   "outputs": [],
   "source": [
    "def tipo_triangulo(a: float, b: float, c: float):\n",
    "    if a == b == c:\n",
    "        return 'Equilátero'\n",
    "    elif a == b or b == c or c == a:\n",
    "        return 'Isósceles'\n",
    "    else:\n",
    "        return 'Escaleno'"
   ],
   "metadata": {
    "collapsed": false,
    "pycharm": {
     "name": "#%%\n"
    }
   }
  },
  {
   "cell_type": "code",
   "execution_count": 61,
   "metadata": {
    "collapsed": true,
    "pycharm": {
     "name": "#%%\n"
    }
   },
   "outputs": [],
   "source": [
    "def verificar_triangulo(a: float, b: float, c: float):\n",
    "    if a < b + c and b < c + a and c < b + a:\n",
    "        print('É possível formar um triângulo')\n",
    "        print(f'Tipo do triângulo: {tipo_triangulo(a, b, c)}')\n",
    "    else:\n",
    "        print('Não é possível formar um triângulo')"
   ]
  },
  {
   "cell_type": "code",
   "execution_count": 62,
   "outputs": [
    {
     "name": "stdout",
     "output_type": "stream",
     "text": [
      "É possível formar um triângulo\n",
      "Tipo do triângulo: Escaleno\n",
      "\n",
      "É possível formar um triângulo\n",
      "Tipo do triângulo: Equilátero\n",
      "\n",
      "É possível formar um triângulo\n",
      "Tipo do triângulo: Isósceles\n"
     ]
    }
   ],
   "source": [
    "verificar_triangulo(5, 6, 7)\n",
    "print()\n",
    "verificar_triangulo(2, 2, 2)\n",
    "print()\n",
    "verificar_triangulo(3, 3, 4)"
   ],
   "metadata": {
    "collapsed": false,
    "pycharm": {
     "name": "#%%\n"
    }
   }
  }
 ],
 "metadata": {
  "kernelspec": {
   "display_name": "Python 3",
   "language": "python",
   "name": "python3"
  },
  "language_info": {
   "codemirror_mode": {
    "name": "ipython",
    "version": 2
   },
   "file_extension": ".py",
   "mimetype": "text/x-python",
   "name": "python",
   "nbconvert_exporter": "python",
   "pygments_lexer": "ipython2",
   "version": "2.7.6"
  }
 },
 "nbformat": 4,
 "nbformat_minor": 0
}
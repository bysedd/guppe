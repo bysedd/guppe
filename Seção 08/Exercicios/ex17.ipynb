{
 "cells": [
  {
   "cell_type": "code",
   "execution_count": 27,
   "outputs": [],
   "source": [
    "def soma(a: int=0, b: int=9):\n",
    "    s = 0\n",
    "    p = ''\n",
    "    if a > b:\n",
    "        for i in range(a, b - 1, -1):\n",
    "            if i < 0:\n",
    "                p += f'({i}) + '\n",
    "            else:\n",
    "                p += f'{i} + '\n",
    "            s += i\n",
    "    else:\n",
    "        for i in range(a, b + 1):\n",
    "            p += f'{i} + '\n",
    "            s += i\n",
    "    print(f'{p[:len(p) - 3]} = {s}')"
   ],
   "metadata": {
    "collapsed": false,
    "pycharm": {
     "name": "#%%\n"
    }
   }
  },
  {
   "cell_type": "code",
   "execution_count": 31,
   "outputs": [
    {
     "name": "stdout",
     "output_type": "stream",
     "text": [
      "0 + 1 + 2 + 3 + 4 + 5 + 6 + 7 + 8 + 9 = 45\n",
      "9 + 8 + 7 + 6 + 5 + 4 + 3 + 2 + 1 + 0 = 45\n"
     ]
    }
   ],
   "source": [
    "soma()\n",
    "soma(9, 0)"
   ],
   "metadata": {
    "collapsed": false,
    "pycharm": {
     "name": "#%%\n"
    }
   }
  }
 ],
 "metadata": {
  "kernelspec": {
   "display_name": "Python 3",
   "language": "python",
   "name": "python3"
  },
  "language_info": {
   "codemirror_mode": {
    "name": "ipython",
    "version": 2
   },
   "file_extension": ".py",
   "mimetype": "text/x-python",
   "name": "python",
   "nbconvert_exporter": "python",
   "pygments_lexer": "ipython2",
   "version": "2.7.6"
  }
 },
 "nbformat": 4,
 "nbformat_minor": 0
}
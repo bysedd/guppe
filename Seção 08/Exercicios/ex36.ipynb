{
 "cells": [
  {
   "cell_type": "code",
   "execution_count": 8,
   "outputs": [],
   "source": [
    "def super_fatorial(n: int):\n",
    "    from math import factorial as fact\n",
    "    if n > 0:\n",
    "        c = 1\n",
    "        p = ''\n",
    "        print(f'sf({n}) = ', end='')\n",
    "        for i in range(1, n + 1):\n",
    "            p += f'{i}! * '\n",
    "            c *= fact(i)\n",
    "        print(f'{p[:len(p) - 3]} = {c}')\n",
    "    else:\n",
    "        print('Invalid number')"
   ],
   "metadata": {
    "collapsed": false,
    "pycharm": {
     "name": "#%%\n"
    }
   }
  },
  {
   "cell_type": "code",
   "execution_count": 12,
   "outputs": [
    {
     "name": "stdout",
     "output_type": "stream",
     "text": [
      "sf(5) = 1! * 2! * 3! * 4! * 5! = 34560\n"
     ]
    }
   ],
   "source": [
    "super_fatorial(5)"
   ],
   "metadata": {
    "collapsed": false,
    "pycharm": {
     "name": "#%%\n"
    }
   }
  }
 ],
 "metadata": {
  "kernelspec": {
   "display_name": "Python 3",
   "language": "python",
   "name": "python3"
  },
  "language_info": {
   "codemirror_mode": {
    "name": "ipython",
    "version": 2
   },
   "file_extension": ".py",
   "mimetype": "text/x-python",
   "name": "python",
   "nbconvert_exporter": "python",
   "pygments_lexer": "ipython2",
   "version": "2.7.6"
  }
 },
 "nbformat": 4,
 "nbformat_minor": 0
}
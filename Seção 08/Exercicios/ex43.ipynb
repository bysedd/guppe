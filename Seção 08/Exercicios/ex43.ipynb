{
 "cells": [
  {
   "cell_type": "code",
   "execution_count": 101,
   "outputs": [],
   "source": [
    "def random(*vetor: int, tamanho: int=0):\n",
    "    from random import randint as r\n",
    "    vetor = list(vetor)\n",
    "    if not tamanho:\n",
    "        tamanho = len(vetor) * 2\n",
    "    i = len(vetor)\n",
    "    while i < tamanho:\n",
    "        rand = r(1, 100)\n",
    "        if rand not in vetor:\n",
    "            vetor.append(rand)\n",
    "            i += 1\n",
    "    return sorted(vetor)"
   ],
   "metadata": {
    "collapsed": false,
    "pycharm": {
     "name": "#%%\n"
    }
   }
  },
  {
   "cell_type": "code",
   "execution_count": 102,
   "outputs": [
    {
     "data": {
      "text/plain": "[1, 2, 3, 13, 21, 82]"
     },
     "execution_count": 102,
     "metadata": {},
     "output_type": "execute_result"
    }
   ],
   "source": [
    "random(2, 3, 1)"
   ],
   "metadata": {
    "collapsed": false,
    "pycharm": {
     "name": "#%%\n"
    }
   }
  }
 ],
 "metadata": {
  "kernelspec": {
   "display_name": "Python 3",
   "language": "python",
   "name": "python3"
  },
  "language_info": {
   "codemirror_mode": {
    "name": "ipython",
    "version": 2
   },
   "file_extension": ".py",
   "mimetype": "text/x-python",
   "name": "python",
   "nbconvert_exporter": "python",
   "pygments_lexer": "ipython2",
   "version": "2.7.6"
  }
 },
 "nbformat": 4,
 "nbformat_minor": 0
}
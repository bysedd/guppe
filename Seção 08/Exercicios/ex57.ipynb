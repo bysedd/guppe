{
 "cells": [
  {
   "cell_type": "code",
   "execution_count": 18,
   "outputs": [],
   "source": [
    "def matriz_7x6(matriz: list, coluna: int=0):\n",
    "    import numpy as np\n",
    "    matriz = np.array(matriz)\n",
    "    c = []\n",
    "    for i in range(7):\n",
    "        c.append(matriz[i][coluna])\n",
    "    print(c)\n",
    "    return sum(c)"
   ],
   "metadata": {
    "collapsed": false,
    "pycharm": {
     "name": "#%%\n"
    }
   }
  },
  {
   "cell_type": "code",
   "execution_count": 19,
   "outputs": [
    {
     "name": "stdout",
     "output_type": "stream",
     "text": [
      "[6, 7, 8, 9, 1, 3, 4]\n"
     ]
    },
    {
     "data": {
      "text/plain": "38"
     },
     "execution_count": 19,
     "metadata": {},
     "output_type": "execute_result"
    }
   ],
   "source": [
    "matriz_7x6([\n",
    "    [1, 2, 3, 4, 5, 6],\n",
    "    [2, 3, 4, 5, 6, 7],\n",
    "    [3, 4, 5, 6, 7, 8],\n",
    "    [4, 5, 6, 7, 8, 9],\n",
    "    [5, 6, 7, 8, 9, 1],\n",
    "    [7, 8, 9, 1, 2, 3],\n",
    "    [8, 9, 1, 2, 3, 4]\n",
    "], coluna=5)"
   ],
   "metadata": {
    "collapsed": false,
    "pycharm": {
     "name": "#%%\n"
    }
   }
  }
 ],
 "metadata": {
  "kernelspec": {
   "display_name": "Python 3",
   "language": "python",
   "name": "python3"
  },
  "language_info": {
   "codemirror_mode": {
    "name": "ipython",
    "version": 2
   },
   "file_extension": ".py",
   "mimetype": "text/x-python",
   "name": "python",
   "nbconvert_exporter": "python",
   "pygments_lexer": "ipython2",
   "version": "2.7.6"
  }
 },
 "nbformat": 4,
 "nbformat_minor": 0
}
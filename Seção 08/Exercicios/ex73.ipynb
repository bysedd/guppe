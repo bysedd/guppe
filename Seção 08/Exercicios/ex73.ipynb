{
 "cells": [
  {
   "cell_type": "code",
   "execution_count": 17,
   "metadata": {
    "collapsed": true,
    "pycharm": {
     "name": "#%%\n"
    }
   },
   "outputs": [],
   "source": [
    "def ler_dados():\n",
    "    habitantes = []\n",
    "    for _ in range(1, 6):\n",
    "        d = dict()\n",
    "        d['sexo'] = input('Sexo (M/F)').upper()[0]\n",
    "        d['olhos'] = input('Cor dos olhos (A - Azuis ou C - Castanhos').upper()[0]\n",
    "        d['cabelos'] = input('Cor dos cabelos (L - Louros, P - Pretos ou C - Castanhos').upper()[0]\n",
    "        d['idade'] = int(input('Idade'))\n",
    "        habitantes.append(d)\n",
    "    for p in habitantes:\n",
    "        for c in p.items():\n",
    "            print(c)\n",
    "        print()\n",
    "    return habitantes"
   ]
  },
  {
   "cell_type": "code",
   "execution_count": 18,
   "outputs": [
    {
     "ename": "IndexError",
     "evalue": "string index out of range",
     "output_type": "error",
     "traceback": [
      "\u001B[1;31m---------------------------------------------------------------------------\u001B[0m",
      "\u001B[1;31mIndexError\u001B[0m                                Traceback (most recent call last)",
      "Input \u001B[1;32mIn [18]\u001B[0m, in \u001B[0;36m<cell line: 1>\u001B[1;34m()\u001B[0m\n\u001B[1;32m----> 1\u001B[0m pessoas \u001B[38;5;241m=\u001B[39m \u001B[43mler_dados\u001B[49m\u001B[43m(\u001B[49m\u001B[43m)\u001B[49m\n",
      "Input \u001B[1;32mIn [17]\u001B[0m, in \u001B[0;36mler_dados\u001B[1;34m()\u001B[0m\n\u001B[0;32m      3\u001B[0m \u001B[38;5;28;01mfor\u001B[39;00m _ \u001B[38;5;129;01min\u001B[39;00m \u001B[38;5;28mrange\u001B[39m(\u001B[38;5;241m1\u001B[39m, \u001B[38;5;241m2\u001B[39m):\n\u001B[0;32m      4\u001B[0m     d \u001B[38;5;241m=\u001B[39m \u001B[38;5;28mdict\u001B[39m()\n\u001B[1;32m----> 5\u001B[0m     d[\u001B[38;5;124m'\u001B[39m\u001B[38;5;124msexo\u001B[39m\u001B[38;5;124m'\u001B[39m] \u001B[38;5;241m=\u001B[39m \u001B[38;5;28;43minput\u001B[39;49m\u001B[43m(\u001B[49m\u001B[38;5;124;43m'\u001B[39;49m\u001B[38;5;124;43mSexo (M/F)\u001B[39;49m\u001B[38;5;124;43m'\u001B[39;49m\u001B[43m)\u001B[49m\u001B[38;5;241;43m.\u001B[39;49m\u001B[43mupper\u001B[49m\u001B[43m(\u001B[49m\u001B[43m)\u001B[49m\u001B[43m[\u001B[49m\u001B[38;5;241;43m0\u001B[39;49m\u001B[43m]\u001B[49m\n\u001B[0;32m      6\u001B[0m     d[\u001B[38;5;124m'\u001B[39m\u001B[38;5;124molhos\u001B[39m\u001B[38;5;124m'\u001B[39m] \u001B[38;5;241m=\u001B[39m \u001B[38;5;28minput\u001B[39m(\u001B[38;5;124m'\u001B[39m\u001B[38;5;124mCor dos olhos (A - Azuis ou C - Castanhos\u001B[39m\u001B[38;5;124m'\u001B[39m)\u001B[38;5;241m.\u001B[39mupper()[\u001B[38;5;241m0\u001B[39m]\n\u001B[0;32m      7\u001B[0m     d[\u001B[38;5;124m'\u001B[39m\u001B[38;5;124mcabelos\u001B[39m\u001B[38;5;124m'\u001B[39m] \u001B[38;5;241m=\u001B[39m \u001B[38;5;28minput\u001B[39m(\u001B[38;5;124m'\u001B[39m\u001B[38;5;124mCor dos cabelos (L - Louros, P - Pretos ou C - Castanhos\u001B[39m\u001B[38;5;124m'\u001B[39m)\u001B[38;5;241m.\u001B[39mupper()[\u001B[38;5;241m0\u001B[39m]\n",
      "\u001B[1;31mIndexError\u001B[0m: string index out of range"
     ]
    }
   ],
   "source": [
    "pessoas = ler_dados()"
   ],
   "metadata": {
    "collapsed": false,
    "pycharm": {
     "name": "#%%\n"
    }
   }
  },
  {
   "cell_type": "code",
   "execution_count": null,
   "outputs": [],
   "source": [
    "def media_idade():\n",
    "    global pessoas\n",
    "    idade = 0\n",
    "    c = 0\n",
    "    for p in pessoas:\n",
    "        if p['olhos'] == 'C' and p['cabelos'] == 'P':\n",
    "            idade += p['idade']\n",
    "            c += 1\n",
    "    return f'{(idade / c):.1f}'"
   ],
   "metadata": {
    "collapsed": false,
    "pycharm": {
     "name": "#%%\n"
    }
   }
  },
  {
   "cell_type": "code",
   "execution_count": null,
   "outputs": [],
   "source": [
    "print(f'Média de idade das pessoas com olhos castanhos e cabelos pretos: {media_idade()}')"
   ],
   "metadata": {
    "collapsed": false,
    "pycharm": {
     "name": "#%%\n"
    }
   }
  },
  {
   "cell_type": "code",
   "execution_count": null,
   "outputs": [],
   "source": [
    "def maior_idade():\n",
    "    global pessoas\n",
    "    maior = pessoas[0].get('idade')\n",
    "    for p in pessoas:\n",
    "        if p['idade'] > maior:\n",
    "            maior = p['idade']\n",
    "    return maior"
   ],
   "metadata": {
    "collapsed": false,
    "pycharm": {
     "name": "#%%\n"
    }
   }
  },
  {
   "cell_type": "code",
   "execution_count": null,
   "outputs": [],
   "source": [
    "print(f'A maior idade entre os habitantes é: {maior_idade()}')"
   ],
   "metadata": {
    "collapsed": false,
    "pycharm": {
     "name": "#%%\n"
    }
   }
  },
  {
   "cell_type": "code",
   "execution_count": null,
   "outputs": [],
   "source": [
    "def quantidade():\n",
    "    global pessoas\n",
    "    c = 0\n",
    "    for p in pessoas:\n",
    "        if 18 <= p['idade'] <= 35 and p['olhos'] == 'A' and p['cabelos'] == 'L':\n",
    "            c += 1\n",
    "    return c"
   ],
   "metadata": {
    "collapsed": false,
    "pycharm": {
     "name": "#%%\n"
    }
   }
  },
  {
   "cell_type": "code",
   "execution_count": null,
   "outputs": [],
   "source": [
    "print(f'Quantidade de mulheres entre 18 e 35 anos que tenhas olhos azuis e cabelos louros: {quantidade()}')"
   ],
   "metadata": {
    "collapsed": false,
    "pycharm": {
     "name": "#%%\n"
    }
   }
  }
 ],
 "metadata": {
  "kernelspec": {
   "display_name": "Python 3",
   "language": "python",
   "name": "python3"
  },
  "language_info": {
   "codemirror_mode": {
    "name": "ipython",
    "version": 2
   },
   "file_extension": ".py",
   "mimetype": "text/x-python",
   "name": "python",
   "nbconvert_exporter": "python",
   "pygments_lexer": "ipython2",
   "version": "2.7.6"
  }
 },
 "nbformat": 4,
 "nbformat_minor": 0
}
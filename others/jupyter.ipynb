{
 "cells": [
  {
   "cell_type": "code",
   "execution_count": 10,
   "outputs": [],
   "source": [
    "def statistic(lst: list):\n",
    "    qtd = len(lst)\n",
    "    maior = max(lst)\n",
    "    menor = min(lst)\n",
    "    total = sum(lst)\n",
    "\n",
    "    print(f'Quantidade = {qtd}')\n",
    "    print(f'Conjunto = {set(lst)}')\n",
    "    print(f'Rol = {sorted(lst)}')\n",
    "    print(f'amp. = {maior} - {menor} = {maior - menor}')\n",
    "    print(f'x̅ = {total / qtd}')\n",
    "    print('Md = ', end='')\n",
    "    if not qtd % 2:\n",
    "        print((qtd + 1) / 2)\n",
    "    else:\n",
    "        print((qtd + 1) // 2)\n",
    "    print()"
   ],
   "metadata": {
    "collapsed": false
   }
  },
  {
   "cell_type": "code",
   "execution_count": 11,
   "outputs": [
    {
     "name": "stdout",
     "output_type": "stream",
     "text": [
      "Quantidade = 20\n",
      "Conjunto = {0.98, 0.99, 1.02, 1.01, 1}\n",
      "Rol = [0.98, 0.98, 0.98, 0.98, 0.99, 0.99, 0.99, 0.99, 0.99, 0.99, 1, 1, 1, 1, 1, 1.01, 1.01, 1.01, 1.01, 1.02]\n",
      "amp. = 1.02 - 0.98 = 0.040000000000000036\n",
      "x̅ = 0.9960000000000002\n",
      "Md = 10.5\n",
      "\n"
     ]
    }
   ],
   "source": [
    "statistic([0.98, 0.98, 0.98, 0.98, 0.99, 0.99, 0.99, 0.99, 0.99, 0.99, 1, 1, 1, 1, 1, 1.01, 1.01, 1.01, 1.01, 1.02])"
   ],
   "metadata": {
    "collapsed": false
   }
  },
  {
   "cell_type": "code",
   "execution_count": 12,
   "outputs": [
    {
     "name": "stdout",
     "output_type": "stream",
     "text": [
      "Quantidade = 25\n",
      "Conjunto = {28, 35, 36, 39, 42, 43, 45, 46, 50, 52, 56, 58, 60, 61, 62, 69, 70, 75, 82}\n",
      "Rol = [28, 35, 35, 36, 39, 42, 42, 43, 43, 45, 46, 50, 52, 56, 58, 60, 60, 61, 62, 69, 70, 70, 75, 82, 82]\n",
      "amp. = 82 - 28 = 54\n",
      "x̅ = 53.64\n",
      "Md = 13\n",
      "\n"
     ]
    }
   ],
   "source": [
    "statistic([60, 69, 28, 46, 35, 58, 56, 36, 42, 82, 35, 42, 75, 45, 50, 43, 61, 82, 62, 60, 70, 43, 39, 70, 52])"
   ],
   "metadata": {
    "collapsed": false
   }
  },
  {
   "cell_type": "code",
   "execution_count": 13,
   "outputs": [
    {
     "name": "stdout",
     "output_type": "stream",
     "text": [
      "Quantidade = 8\n",
      "Conjunto = {20.96, 20.6, 20.8, 20.9, 20.5}\n",
      "Rol = [20.5, 20.6, 20.6, 20.8, 20.9, 20.9, 20.9, 20.96]\n",
      "amp. = 20.96 - 20.5 = 0.46000000000000085\n",
      "x̅ = 20.77\n",
      "Md = 4.5\n",
      "\n"
     ]
    }
   ],
   "source": [
    "statistic([20.9, 20.9, 20.5, 20.8, 20.6, 20.6, 20.9, 20.96])"
   ],
   "metadata": {
    "collapsed": false
   }
  },
  {
   "cell_type": "code",
   "execution_count": 14,
   "outputs": [
    {
     "name": "stdout",
     "output_type": "stream",
     "text": [
      "Quantidade = 15\n",
      "Conjunto = {13.5, 14, 15.5, 16, 18, 19.5, 20, 18.5, 21.5}\n",
      "Rol = [13.5, 13.5, 13.5, 13.5, 14, 15.5, 16, 18, 18, 18.5, 19.5, 20, 20, 20, 21.5]\n",
      "amp. = 21.5 - 13.5 = 8.0\n",
      "x̅ = 17.0\n",
      "Md = 8\n",
      "\n"
     ]
    }
   ],
   "source": [
    "statistic([15.5, 14, 13.5, 18, 19.5, 20, 13.5, 13.5, 18, 20, 18.5, 13.5, 21.5, 20, 16])"
   ],
   "metadata": {
    "collapsed": false
   }
  }
 ],
 "metadata": {
  "kernelspec": {
   "display_name": "Python 3 (ipykernel)",
   "language": "python",
   "name": "python3"
  },
  "language_info": {
   "codemirror_mode": {
    "name": "ipython",
    "version": 3
   },
   "file_extension": ".py",
   "mimetype": "text/x-python",
   "name": "python",
   "nbconvert_exporter": "python",
   "pygments_lexer": "ipython3",
   "version": "3.10.3"
  }
 },
 "nbformat": 4,
 "nbformat_minor": 1
}

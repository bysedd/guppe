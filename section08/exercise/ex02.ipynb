{
 "cells": [
  {
   "cell_type": "code",
   "execution_count": 38,
   "outputs": [],
   "source": [
    "def data(data_atual: str):\n",
    "    if data_atual:\n",
    "        s = str(data_atual)\n",
    "        s = s.split('/')\n",
    "        dia = int(s[0])\n",
    "        mes = int(s[1])\n",
    "        ano = int(s[2])\n",
    "        nome_dos_meses = {\n",
    "            1: 'Janeiro',\n",
    "            2: 'Fevereiro',\n",
    "            3: 'Março',\n",
    "            4: 'Abril',\n",
    "            5: 'Maio',\n",
    "            6: 'Junho',\n",
    "            7: 'Julho',\n",
    "            8: 'Agosto',\n",
    "            9: 'Setembro',\n",
    "            10: 'Outubro',\n",
    "            11: 'Novembro',\n",
    "            12: 'Dezembro'\n",
    "        }\n",
    "        if 0 < dia <= 31 and 0 < mes <= 12 and 0 < ano:\n",
    "            mes = nome_dos_meses[mes]\n",
    "            print(f'{dia} de {mes} de {ano}')\n",
    "        else:\n",
    "            print('Data inválida')\n",
    "    else:\n",
    "        print('Data inválida')"
   ],
   "metadata": {
    "collapsed": false,
    "pycharm": {
     "name": "#%%\n"
    }
   }
  },
  {
   "cell_type": "code",
   "execution_count": 42,
   "outputs": [
    {
     "name": "stdout",
     "output_type": "stream",
     "text": [
      "12 de Maio de 2007\n"
     ]
    }
   ],
   "source": [
    "data('12/05/2007')"
   ],
   "metadata": {
    "collapsed": false,
    "pycharm": {
     "name": "#%%\n"
    }
   }
  }
 ],
 "metadata": {
  "kernelspec": {
   "display_name": "Python 3",
   "language": "python",
   "name": "python3"
  },
  "language_info": {
   "codemirror_mode": {
    "name": "ipython",
    "version": 2
   },
   "file_extension": ".py",
   "mimetype": "text/x-python",
   "name": "python",
   "nbconvert_exporter": "python",
   "pygments_lexer": "ipython2",
   "version": "2.7.6"
  }
 },
 "nbformat": 4,
 "nbformat_minor": 0
}
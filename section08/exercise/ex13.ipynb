{
 "cells": [
  {
   "cell_type": "code",
   "execution_count": 48,
   "metadata": {
    "collapsed": true,
    "pycharm": {
     "name": "#%%\n"
    }
   },
   "outputs": [],
   "source": [
    "def operation(*args: float, symbol: str='+'):\n",
    "    symbol = symbol[0]\n",
    "    if symbol == '+':\n",
    "        return sum(args)\n",
    "    elif symbol == '-':\n",
    "        calc = args[0]\n",
    "        for n in args:\n",
    "            calc -= n\n",
    "        return calc + args[0]\n",
    "    calc = 1\n",
    "    if not 0 in args:\n",
    "        if symbol == '/':\n",
    "            for n in args:\n",
    "                calc /= n\n",
    "            return calc\n",
    "        elif symbol == '*':\n",
    "            for n in args:\n",
    "                calc *= n\n",
    "            return calc\n",
    "    return 'Remove 0 to use this operation'"
   ]
  },
  {
   "cell_type": "code",
   "execution_count": 55,
   "outputs": [
    {
     "data": {
      "text/plain": "'Remove 0 to use this operation'"
     },
     "execution_count": 55,
     "metadata": {},
     "output_type": "execute_result"
    }
   ],
   "source": [
    "operation(2, 5, 1, 0, symbol='/')"
   ],
   "metadata": {
    "collapsed": false,
    "pycharm": {
     "name": "#%%\n"
    }
   }
  }
 ],
 "metadata": {
  "kernelspec": {
   "display_name": "Python 3",
   "language": "python",
   "name": "python3"
  },
  "language_info": {
   "codemirror_mode": {
    "name": "ipython",
    "version": 2
   },
   "file_extension": ".py",
   "mimetype": "text/x-python",
   "name": "python",
   "nbconvert_exporter": "python",
   "pygments_lexer": "ipython2",
   "version": "2.7.6"
  }
 },
 "nbformat": 4,
 "nbformat_minor": 0
}
{
 "cells": [
  {
   "cell_type": "code",
   "execution_count": 39,
   "outputs": [],
   "source": [
    "def calculo(n: int):\n",
    "    x = n\n",
    "    i = 2\n",
    "    while n > 1:\n",
    "        while i < x:\n",
    "            if n % i == 0:\n",
    "                print(f'{n} / {i}')\n",
    "                n //= i\n",
    "            else:\n",
    "                i += 1\n",
    "    print(n)"
   ],
   "metadata": {
    "collapsed": false,
    "pycharm": {
     "name": "#%%\n"
    }
   }
  },
  {
   "cell_type": "code",
   "execution_count": 40,
   "metadata": {
    "collapsed": true,
    "pycharm": {
     "name": "#%%\n"
    }
   },
   "outputs": [],
   "source": [
    "def maior_fator_primo(n: int):\n",
    "    x = n\n",
    "    i = 2\n",
    "    lista_primos = []\n",
    "    while n > 1:\n",
    "        while i < x:\n",
    "            if n % i == 0:\n",
    "                lista_primos.append(i)\n",
    "                n //= i\n",
    "            else:\n",
    "                i += 1\n",
    "    return max(lista_primos)"
   ]
  },
  {
   "cell_type": "code",
   "execution_count": 41,
   "outputs": [
    {
     "name": "stdout",
     "output_type": "stream",
     "text": [
      "O maior fator primo de 123 é 41\n",
      "123 / 3\n",
      "41 / 41\n",
      "1\n"
     ]
    }
   ],
   "source": [
    "num = int(input('Digite um número'))\n",
    "print(f'O maior fator primo de {num} é {maior_fator_primo(num)}')\n",
    "calculo(num)"
   ],
   "metadata": {
    "collapsed": false,
    "pycharm": {
     "name": "#%%\n"
    }
   }
  }
 ],
 "metadata": {
  "kernelspec": {
   "display_name": "Python 3",
   "language": "python",
   "name": "python3"
  },
  "language_info": {
   "codemirror_mode": {
    "name": "ipython",
    "version": 2
   },
   "file_extension": ".py",
   "mimetype": "text/x-python",
   "name": "python",
   "nbconvert_exporter": "python",
   "pygments_lexer": "ipython2",
   "version": "2.7.6"
  }
 },
 "nbformat": 4,
 "nbformat_minor": 0
}
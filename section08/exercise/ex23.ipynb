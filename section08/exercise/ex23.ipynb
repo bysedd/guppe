{
 "cells": [
  {
   "cell_type": "code",
   "execution_count": 43,
   "outputs": [],
   "source": [
    "def gerar_triangulo_lateral(n: int=4):\n",
    "    reverse = False\n",
    "    height = 2 * n - 1\n",
    "    i = 1\n",
    "    while i > 0:\n",
    "        if reverse:\n",
    "            print(f'{\"\":>{height}}{\"*\" * i}')\n",
    "            i -= 1\n",
    "        else:\n",
    "            if i == n:\n",
    "                reverse = True\n",
    "            print(f'{\"\":>{height}}{\"*\" * i}')\n",
    "            i += 1\n",
    "            if reverse:\n",
    "                i = n - 1"
   ],
   "metadata": {
    "collapsed": false,
    "pycharm": {
     "name": "#%%\n"
    }
   }
  },
  {
   "cell_type": "code",
   "execution_count": 52,
   "outputs": [
    {
     "name": "stdout",
     "output_type": "stream",
     "text": [
      "       *\n",
      "       **\n",
      "       ***\n",
      "       ****\n",
      "       ***\n",
      "       **\n",
      "       *\n"
     ]
    }
   ],
   "source": [
    "gerar_triangulo_lateral(4)"
   ],
   "metadata": {
    "collapsed": false,
    "pycharm": {
     "name": "#%%\n"
    }
   }
  }
 ],
 "metadata": {
  "kernelspec": {
   "display_name": "Python 3",
   "language": "python",
   "name": "python3"
  },
  "language_info": {
   "codemirror_mode": {
    "name": "ipython",
    "version": 2
   },
   "file_extension": ".py",
   "mimetype": "text/x-python",
   "name": "python",
   "nbconvert_exporter": "python",
   "pygments_lexer": "ipython2",
   "version": "2.7.6"
  }
 },
 "nbformat": 4,
 "nbformat_minor": 0
}
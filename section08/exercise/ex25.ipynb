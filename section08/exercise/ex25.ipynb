{
 "cells": [
  {
   "cell_type": "code",
   "execution_count": null,
   "outputs": [],
   "source": [
    "def serie(n: int = 5):\n",
    "    s = 0\n",
    "    p = ''\n",
    "    print('S = ', end='')\n",
    "    for i in range(1, n + 1):\n",
    "        n1 = i ** 2 + 1\n",
    "        n2 = i + 3\n",
    "        s += n1 / n2\n",
    "        p += f'{n1}/{n2} + '\n",
    "    print(f'{p[:len(p) - 3]} = {s:.2f}')"
   ],
   "metadata": {
    "collapsed": false,
    "pycharm": {
     "name": "#%%\n"
    }
   }
  },
  {
   "cell_type": "code",
   "execution_count": null,
   "outputs": [],
   "source": [
    "serie(10)"
   ],
   "metadata": {
    "collapsed": false,
    "pycharm": {
     "name": "#%%\n"
    }
   }
  }
 ],
 "metadata": {
  "kernelspec": {
   "display_name": "Python 3",
   "language": "python",
   "name": "python3"
  },
  "language_info": {
   "codemirror_mode": {
    "name": "ipython",
    "version": 2
   },
   "file_extension": ".py",
   "mimetype": "text/x-python",
   "name": "python",
   "nbconvert_exporter": "python",
   "pygments_lexer": "ipython2",
   "version": "2.7.6"
  }
 },
 "nbformat": 4,
 "nbformat_minor": 0
}
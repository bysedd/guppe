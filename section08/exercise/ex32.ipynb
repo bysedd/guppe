{
 "cells": [
  {
   "cell_type": "code",
   "execution_count": 16,
   "outputs": [],
   "source": [
    "def simplifica(numerador: int, denominador: int):\n",
    "    maior = numerador\n",
    "    n_backup = numerador\n",
    "    d_backup = denominador\n",
    "    if denominador > numerador:\n",
    "        maior = denominador\n",
    "    i = 2\n",
    "    while i <= maior:\n",
    "        if numerador % i == 0 and denominador % i == 0:\n",
    "            numerador //= i\n",
    "            denominador //= i\n",
    "            i = 2\n",
    "        else:\n",
    "            i += 1\n",
    "    return f'{n_backup}/{d_backup} => {numerador}/{denominador} = {(numerador / denominador):.4f}'"
   ],
   "metadata": {
    "collapsed": false,
    "pycharm": {
     "name": "#%%\n"
    }
   }
  },
  {
   "cell_type": "code",
   "execution_count": 17,
   "outputs": [],
   "source": [
    "from random import randint as r"
   ],
   "metadata": {
    "collapsed": false,
    "pycharm": {
     "name": "#%%\n"
    }
   }
  },
  {
   "cell_type": "code",
   "execution_count": 35,
   "outputs": [
    {
     "name": "stdout",
     "output_type": "stream",
     "text": [
      "65/70 => 13/14 = 0.9286\n",
      "13/97 => 13/97 = 0.1340\n",
      "60/54 => 10/9 = 1.1111\n",
      "15/85 => 3/17 = 0.1765\n",
      "97/66 => 97/66 = 1.4697\n",
      "84/81 => 28/27 = 1.0370\n",
      "91/74 => 91/74 = 1.2297\n",
      "98/54 => 49/27 = 1.8148\n",
      "13/75 => 13/75 = 0.1733\n",
      "16/73 => 16/73 = 0.2192\n"
     ]
    }
   ],
   "source": [
    "for _ in range(10):\n",
    "    print(simplifica(r(10, 100), r(10, 100)))"
   ],
   "metadata": {
    "collapsed": false,
    "pycharm": {
     "name": "#%%\n"
    }
   }
  }
 ],
 "metadata": {
  "kernelspec": {
   "display_name": "Python 3",
   "language": "python",
   "name": "python3"
  },
  "language_info": {
   "codemirror_mode": {
    "name": "ipython",
    "version": 2
   },
   "file_extension": ".py",
   "mimetype": "text/x-python",
   "name": "python",
   "nbconvert_exporter": "python",
   "pygments_lexer": "ipython2",
   "version": "2.7.6"
  }
 },
 "nbformat": 4,
 "nbformat_minor": 0
}
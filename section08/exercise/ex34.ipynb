{
 "cells": [
  {
   "cell_type": "code",
   "execution_count": 14,
   "outputs": [],
   "source": [
    "def fatorial_duplo(n: int):\n",
    "    if n > 0 and n % 2 != 0:\n",
    "        f = 1\n",
    "        p = ''\n",
    "        print(f'{n}!! = ', end='')\n",
    "        for i in range(1, n + 1):\n",
    "            if i % 2 != 0:\n",
    "                p += f'{i} * '\n",
    "                f *= i\n",
    "        print(f'{p[:len(p) - 3]} = {f}')\n",
    "    else:\n",
    "        return 'Número inválido'"
   ],
   "metadata": {
    "collapsed": false,
    "pycharm": {
     "name": "#%%\n"
    }
   }
  },
  {
   "cell_type": "code",
   "execution_count": 18,
   "outputs": [
    {
     "name": "stdout",
     "output_type": "stream",
     "text": [
      "13!! = 1 * 3 * 5 * 7 * 9 * 11 * 13 = 135135\n"
     ]
    }
   ],
   "source": [
    "fatorial_duplo(13)"
   ],
   "metadata": {
    "collapsed": false,
    "pycharm": {
     "name": "#%%\n"
    }
   }
  }
 ],
 "metadata": {
  "kernelspec": {
   "display_name": "Python 3",
   "language": "python",
   "name": "python3"
  },
  "language_info": {
   "codemirror_mode": {
    "name": "ipython",
    "version": 2
   },
   "file_extension": ".py",
   "mimetype": "text/x-python",
   "name": "python",
   "nbconvert_exporter": "python",
   "pygments_lexer": "ipython2",
   "version": "2.7.6"
  }
 },
 "nbformat": 4,
 "nbformat_minor": 0
}
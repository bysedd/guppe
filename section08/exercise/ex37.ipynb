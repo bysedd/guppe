{
 "cells": [
  {
   "cell_type": "code",
   "execution_count": 4,
   "outputs": [],
   "source": [
    "def hiper_fatorial(n: int):\n",
    "    from math import pow\n",
    "    if n > 0:\n",
    "        c = 1\n",
    "        p = ''\n",
    "        for i in range(1, n + 1):\n",
    "            p += f'{i}^{i} * '\n",
    "            c *= pow(i, i)\n",
    "        print(f'{p[:len(p) - 3]} = {int(c)}')\n",
    "    else:\n",
    "        print('Invalid number')"
   ],
   "metadata": {
    "collapsed": false,
    "pycharm": {
     "name": "#%%\n"
    }
   }
  },
  {
   "cell_type": "code",
   "execution_count": 5,
   "outputs": [
    {
     "name": "stdout",
     "output_type": "stream",
     "text": [
      "1^1 * 2^2 * 3^3 = 108\n"
     ]
    }
   ],
   "source": [
    "hiper_fatorial(3)"
   ],
   "metadata": {
    "collapsed": false,
    "pycharm": {
     "name": "#%%\n"
    }
   }
  }
 ],
 "metadata": {
  "kernelspec": {
   "display_name": "Python 3",
   "language": "python",
   "name": "python3"
  },
  "language_info": {
   "codemirror_mode": {
    "name": "ipython",
    "version": 2
   },
   "file_extension": ".py",
   "mimetype": "text/x-python",
   "name": "python",
   "nbconvert_exporter": "python",
   "pygments_lexer": "ipython2",
   "version": "2.7.6"
  }
 },
 "nbformat": 4,
 "nbformat_minor": 0
}
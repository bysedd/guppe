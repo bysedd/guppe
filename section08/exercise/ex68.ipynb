{
 "cells": [
  {
   "cell_type": "code",
   "execution_count": 125,
   "outputs": [],
   "source": [
    "def intercalar(str1: str, str2: str):\n",
    "    try:\n",
    "        str1 = list(str1)\n",
    "        str2 = list(str2)\n",
    "        if len(str1) > len(str2):\n",
    "            for i, _ in enumerate(str2):\n",
    "                str1[i] += str2[i]\n",
    "            for l in str2[len(str1):]:\n",
    "                str1[-1] += l\n",
    "        elif len(str1) < len(str2):\n",
    "            for i, _ in enumerate(str1):\n",
    "                str1[i] += str2[i]\n",
    "            for l in str2[len(str1):]:\n",
    "                str1[-1] += l\n",
    "        else:\n",
    "            for i, _ in enumerate(str2):\n",
    "                str1[i] += str2[i]\n",
    "    finally:\n",
    "        for l in str1:\n",
    "            if l != '[' and l != ']' and l != \"'\":\n",
    "                print(l, end='')"
   ],
   "metadata": {
    "collapsed": false,
    "pycharm": {
     "name": "#%%\n"
    }
   }
  },
  {
   "cell_type": "code",
   "execution_count": 126,
   "outputs": [
    {
     "name": "stdout",
     "output_type": "stream",
     "text": [
      "QQuuairnttaa"
     ]
    }
   ],
   "source": [
    "intercalar('Quarta', 'Quinta')"
   ],
   "metadata": {
    "collapsed": false,
    "pycharm": {
     "name": "#%%\n"
    }
   }
  }
 ],
 "metadata": {
  "kernelspec": {
   "display_name": "Python 3",
   "language": "python",
   "name": "python3"
  },
  "language_info": {
   "codemirror_mode": {
    "name": "ipython",
    "version": 2
   },
   "file_extension": ".py",
   "mimetype": "text/x-python",
   "name": "python",
   "nbconvert_exporter": "python",
   "pygments_lexer": "ipython2",
   "version": "2.7.6"
  }
 },
 "nbformat": 4,
 "nbformat_minor": 0
}
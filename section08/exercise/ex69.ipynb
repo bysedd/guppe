{
 "cells": [
  {
   "cell_type": "code",
   "execution_count": 163,
   "outputs": [],
   "source": [
    "def fraction(frac: str):\n",
    "    frac = frac.split('/')\n",
    "    frac_n = int(frac[0])\n",
    "    frac_d = int(frac[1])\n",
    "    return [frac_n, frac_d]"
   ],
   "metadata": {
    "collapsed": false,
    "pycharm": {
     "name": "#%%\n"
    }
   }
  },
  {
   "cell_type": "code",
   "execution_count": 164,
   "outputs": [
    {
     "name": "stdout",
     "output_type": "stream",
     "text": [
      "[2, 4]\n",
      "[3, 9]\n"
     ]
    }
   ],
   "source": [
    "p = fraction('2/4')\n",
    "q = fraction('3/9')\n",
    "print(p)\n",
    "print(q)"
   ],
   "metadata": {
    "collapsed": false,
    "pycharm": {
     "name": "#%%\n"
    }
   }
  },
  {
   "cell_type": "code",
   "execution_count": 165,
   "outputs": [],
   "source": [
    "def mdc(numerador: int, denominador: int):\n",
    "    maior = numerador\n",
    "    if denominador > numerador:\n",
    "        maior = denominador\n",
    "    i = 2\n",
    "    while i <= maior:\n",
    "        if numerador % i == 0 and denominador % i == 0:\n",
    "            numerador //= i\n",
    "            denominador //= i\n",
    "            i = 2\n",
    "        else:\n",
    "            i += 1\n",
    "    return f'{numerador}/{denominador}'"
   ],
   "metadata": {
    "collapsed": false,
    "pycharm": {
     "name": "#%%\n"
    }
   }
  },
  {
   "cell_type": "code",
   "execution_count": 166,
   "outputs": [
    {
     "name": "stdout",
     "output_type": "stream",
     "text": [
      "1/2\n",
      "1/3\n"
     ]
    }
   ],
   "source": [
    "p = mdc(p[0], p[1])\n",
    "q = mdc(q[0], q[1])\n",
    "print(p)\n",
    "print(q)"
   ],
   "metadata": {
    "collapsed": false,
    "pycharm": {
     "name": "#%%\n"
    }
   }
  },
  {
   "cell_type": "code",
   "execution_count": 167,
   "outputs": [],
   "source": [
    "def operations(frac1: str, frac2: str):\n",
    "    frac1 = frac1.split('/')\n",
    "    f1_n = int(frac1[0])\n",
    "    f1_d = int(frac1[1])\n",
    "    f1 = f1_n / f1_d\n",
    "\n",
    "    frac2 = frac2.split('/')\n",
    "    f2_n = int(frac2[0])\n",
    "    f2_d = int(frac2[1])\n",
    "    f2 = f2_n / f2_d\n",
    "\n",
    "    print(f'Soma => {f1 + f2}')\n",
    "    print(f'Subtração => {f1 - f2}')\n",
    "    print(f'Produto => {f1 * f2}')\n",
    "    print(f'Quociente => {f1 / f2}')"
   ],
   "metadata": {
    "collapsed": false,
    "pycharm": {
     "name": "#%%\n"
    }
   }
  },
  {
   "cell_type": "code",
   "execution_count": 168,
   "outputs": [
    {
     "name": "stdout",
     "output_type": "stream",
     "text": [
      "Soma => 0.8333333333333333\n",
      "Subtração => 0.16666666666666669\n",
      "Produto => 0.16666666666666666\n",
      "Quociente => 1.5\n"
     ]
    }
   ],
   "source": [
    "operations(p, q)"
   ],
   "metadata": {
    "collapsed": false,
    "pycharm": {
     "name": "#%%\n"
    }
   }
  }
 ],
 "metadata": {
  "kernelspec": {
   "display_name": "Python 3",
   "language": "python",
   "name": "python3"
  },
  "language_info": {
   "codemirror_mode": {
    "name": "ipython",
    "version": 2
   },
   "file_extension": ".py",
   "mimetype": "text/x-python",
   "name": "python",
   "nbconvert_exporter": "python",
   "pygments_lexer": "ipython2",
   "version": "2.7.6"
  }
 },
 "nbformat": 4,
 "nbformat_minor": 0
}
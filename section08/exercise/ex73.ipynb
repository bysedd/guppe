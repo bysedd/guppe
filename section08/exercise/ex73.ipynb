{
 "cells": [
  {
   "cell_type": "code",
   "execution_count": 48,
   "metadata": {
    "collapsed": true
   },
   "outputs": [],
   "source": [
    "def ler_dados(visualizar: bool=True):\n",
    "\ttry:\n",
    "\t    habitantes = [{\n",
    "\t\t    \"sexo\": input('Sexo (M/F)').upper()[0],\n",
    "\t\t    \"olhos\": input('Cor dos olhos (A - Azuis ou C - Castanhos').upper()[0],\n",
    "\t\t    \"cabelos\": input('Cor dos cabelos (L - Louros, P - Pretos ou C - Castanhos').upper()[0],\n",
    "\t\t    \"idade\": int(input('Idade'))\n",
    "\t    } for _ in range(5)]\n",
    "\texcept ValueError:\n",
    "\t\tprint(\"valor inválido!\")\n",
    "\texcept IndexError:\n",
    "\t\tprint(\"digite um valor válido!\")\n",
    "\telse:\n",
    "\t\tif visualizar:\n",
    "\t\t\tfor p in habitantes:\n",
    "\t\t\t\tprint(p)\n",
    "\t\treturn habitantes"
   ]
  },
  {
   "cell_type": "code",
   "execution_count": 49,
   "outputs": [
    {
     "name": "stdout",
     "output_type": "stream",
     "text": [
      "{'sexo': 'M', 'olhos': 'C', 'cabelos': 'P', 'idade': 19}\n",
      "{'sexo': 'M', 'olhos': 'A', 'cabelos': 'L', 'idade': 33}\n",
      "{'sexo': 'M', 'olhos': 'C', 'cabelos': 'P', 'idade': 32}\n",
      "{'sexo': 'F', 'olhos': 'A', 'cabelos': 'L', 'idade': 11}\n",
      "{'sexo': 'M', 'olhos': 'C', 'cabelos': 'C', 'idade': 32}\n"
     ]
    }
   ],
   "source": [
    "pessoas = ler_dados()"
   ],
   "metadata": {
    "collapsed": false
   }
  },
  {
   "cell_type": "code",
   "execution_count": 54,
   "metadata": {
    "collapsed": false
   },
   "outputs": [],
   "source": [
    "def media_idade():\n",
    "    global pessoas\n",
    "    idade = sum([p[\"idade\"] for p in pessoas if p['olhos'] == 'C' and p['cabelos'] == 'P'])\n",
    "    qtd = len([p for p in pessoas if p['olhos'] == 'C' and p['cabelos'] == 'P'])\n",
    "    return 0 if qtd == 0 else f'{round(idade / qtd)}'"
   ]
  },
  {
   "cell_type": "code",
   "execution_count": 55,
   "metadata": {
    "collapsed": false
   },
   "outputs": [],
   "source": [
    "def maior_idade():\n",
    "    global pessoas\n",
    "    return max(pessoas, key=lambda pessoa: pessoa[\"idade\"])[\"idade\"]"
   ]
  },
  {
   "cell_type": "code",
   "execution_count": 56,
   "metadata": {
    "collapsed": false
   },
   "outputs": [],
   "source": [
    "def quantidade():\n",
    "    global pessoas\n",
    "    return len([p for p in pessoas if 18 <= p['idade'] <= 35 and p['olhos'] == 'A' and p['cabelos'] == 'L'])"
   ]
  },
  {
   "cell_type": "code",
   "execution_count": 57,
   "outputs": [
    {
     "name": "stdout",
     "output_type": "stream",
     "text": [
      "Média de idade das pessoas com olhos castanhos e cabelos pretos: 26\n",
      "A maior idade entre os habitantes é: 33\n",
      "Quantidade de mulheres entre 18 e 35 anos que tenhas olhos azuis e cabelos louros: 1\n"
     ]
    }
   ],
   "source": [
    "print(f'Média de idade das pessoas com olhos castanhos e cabelos pretos: {media_idade()}')\n",
    "print(f'A maior idade entre os habitantes é: {maior_idade()}')\n",
    "print(f'Quantidade de mulheres entre 18 e 35 anos que tenhas olhos azuis e cabelos louros: {quantidade()}')"
   ],
   "metadata": {
    "collapsed": false
   }
  }
 ],
 "metadata": {
  "kernelspec": {
   "display_name": "Python 3.10.5 64-bit",
   "language": "python",
   "name": "python3"
  },
  "language_info": {
   "codemirror_mode": {
    "name": "ipython",
    "version": 3
   },
   "file_extension": ".py",
   "mimetype": "text/x-python",
   "name": "python",
   "nbconvert_exporter": "python",
   "pygments_lexer": "ipython3",
   "version": "3.10.5"
  },
  "vscode": {
   "interpreter": {
    "hash": "369f2c481f4da34e4445cda3fffd2e751bd1c4d706f27375911949ba6bb62e1c"
   }
  }
 },
 "nbformat": 4,
 "nbformat_minor": 0
}

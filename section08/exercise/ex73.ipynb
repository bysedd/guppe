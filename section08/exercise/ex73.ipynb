{
 "cells": [
  {
   "cell_type": "code",
   "execution_count": null,
   "metadata": {
    "collapsed": true,
    "pycharm": {
     "name": "#%%\n"
    }
   },
   "outputs": [],
   "source": [
    "def ler_dados(visualizar: bool=False):\n",
    "    habitantes = []\n",
    "    for _ in range(1, 6):\n",
    "        d = dict()\n",
    "        d['sexo'] = input('Sexo (M/F)').upper()[0]\n",
    "        d['olhos'] = input('Cor dos olhos (A - Azuis ou C - Castanhos').upper()[0]\n",
    "        d['cabelos'] = input('Cor dos cabelos (L - Louros, P - Pretos ou C - Castanhos').upper()[0]\n",
    "        d['idade'] = int(input('Idade'))\n",
    "        habitantes.append(d)\n",
    "    if visualizar:\n",
    "        for p in habitantes:\n",
    "            for c in p.items():\n",
    "                print(c)\n",
    "            print()\n",
    "    return habitantes"
   ]
  },
  {
   "cell_type": "code",
   "execution_count": null,
   "metadata": {
    "collapsed": false,
    "pycharm": {
     "name": "#%%\n"
    }
   },
   "outputs": [],
   "source": [
    "pessoas = ler_dados()"
   ]
  },
  {
   "cell_type": "code",
   "execution_count": 25,
   "metadata": {
    "collapsed": false,
    "pycharm": {
     "name": "#%%\n"
    }
   },
   "outputs": [],
   "source": [
    "def media_idade(arredondar: int=1):\n",
    "    global pessoas\n",
    "    idade = 0\n",
    "    c = 0\n",
    "    for p in pessoas:\n",
    "        if p['olhos'] == 'C' and p['cabelos'] == 'P':\n",
    "            idade += p['idade']\n",
    "            c += 1\n",
    "    return f'{(idade / c):.{arredondar}f}'"
   ]
  },
  {
   "cell_type": "code",
   "execution_count": 26,
   "metadata": {
    "collapsed": false,
    "pycharm": {
     "name": "#%%\n"
    }
   },
   "outputs": [
    {
     "name": "stdout",
     "output_type": "stream",
     "text": [
      "Média de idade das pessoas com olhos castanhos e cabelos pretos: 25.5\n"
     ]
    }
   ],
   "source": [
    "print(f'Média de idade das pessoas com olhos castanhos e cabelos pretos: {media_idade()}')"
   ]
  },
  {
   "cell_type": "code",
   "execution_count": 27,
   "metadata": {
    "collapsed": false,
    "pycharm": {
     "name": "#%%\n"
    }
   },
   "outputs": [],
   "source": [
    "def maior_idade():\n",
    "    global pessoas\n",
    "    maior = pessoas[0].get('idade')\n",
    "    for p in pessoas:\n",
    "        if p['idade'] > maior:\n",
    "            maior = p['idade']\n",
    "    return maior"
   ]
  },
  {
   "cell_type": "code",
   "execution_count": 28,
   "metadata": {
    "collapsed": false,
    "pycharm": {
     "name": "#%%\n"
    }
   },
   "outputs": [
    {
     "name": "stdout",
     "output_type": "stream",
     "text": [
      "A maior idade entre os habitantes é: 34\n"
     ]
    }
   ],
   "source": [
    "print(f'A maior idade entre os habitantes é: {maior_idade()}')"
   ]
  },
  {
   "cell_type": "code",
   "execution_count": 29,
   "metadata": {
    "collapsed": false,
    "pycharm": {
     "name": "#%%\n"
    }
   },
   "outputs": [],
   "source": [
    "def quantidade():\n",
    "    global pessoas\n",
    "    c = 0\n",
    "    for p in pessoas:\n",
    "        if 18 <= p['idade'] <= 35 and p['olhos'] == 'A' and p['cabelos'] == 'L':\n",
    "            c += 1\n",
    "    return c"
   ]
  },
  {
   "cell_type": "code",
   "execution_count": 30,
   "metadata": {
    "collapsed": false,
    "pycharm": {
     "name": "#%%\n"
    }
   },
   "outputs": [
    {
     "name": "stdout",
     "output_type": "stream",
     "text": [
      "Quantidade de mulheres entre 18 e 35 anos que tenhas olhos azuis e cabelos louros: 1\n"
     ]
    }
   ],
   "source": [
    "print(f'Quantidade de mulheres entre 18 e 35 anos que tenhas olhos azuis e cabelos louros: {quantidade()}')"
   ]
  }
 ],
 "metadata": {
  "kernelspec": {
   "display_name": "Python 3.10.5 64-bit",
   "language": "python",
   "name": "python3"
  },
  "language_info": {
   "codemirror_mode": {
    "name": "ipython",
    "version": 3
   },
   "file_extension": ".py",
   "mimetype": "text/x-python",
   "name": "python",
   "nbconvert_exporter": "python",
   "pygments_lexer": "ipython3",
   "version": "3.10.5"
  },
  "vscode": {
   "interpreter": {
    "hash": "369f2c481f4da34e4445cda3fffd2e751bd1c4d706f27375911949ba6bb62e1c"
   }
  }
 },
 "nbformat": 4,
 "nbformat_minor": 0
}
